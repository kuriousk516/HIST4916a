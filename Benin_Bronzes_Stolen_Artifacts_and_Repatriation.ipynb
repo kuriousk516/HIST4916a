{
 "cells": [
  {
   "cell_type": "markdown",
   "id": "closed-small",
   "metadata": {},
   "source": [
    "# Benin Bronzes: Stolen Artifacts and Repatriation"
   ]
  },
  {
   "cell_type": "markdown",
   "id": "bound-revelation",
   "metadata": {},
   "source": [
    "## Introduction\n",
    "\"~ This section will introduce your goals for the notebook, and briefly situate what your notebook does and why it matters.\""
   ]
  },
  {
   "cell_type": "markdown",
   "id": "designing-proceeding",
   "metadata": {},
   "source": [
    "## Data\n",
    "\"This section will discuss the source of your data, is strengths / limitations, and will include the necessary code to load the data up. The discussion here may be brief; you will want to address the same questions in more depth in your Notebook Reflection.\n",
    "It may well be that you are loading data from some other website; it could be that you’ve already downloaded, subsetted, and cleaned data from somewhere; in this case, you’d be loading the data from your own github repository or Datasette on Heroku.\""
   ]
  }
 ],
 "metadata": {
  "kernelspec": {
   "display_name": "Python 3",
   "language": "python",
   "name": "python3"
  },
  "language_info": {
   "codemirror_mode": {
    "name": "ipython",
    "version": 3
   },
   "file_extension": ".py",
   "mimetype": "text/x-python",
   "name": "python",
   "nbconvert_exporter": "python",
   "pygments_lexer": "ipython3",
   "version": "3.7.10"
  }
 },
 "nbformat": 4,
 "nbformat_minor": 5
}
