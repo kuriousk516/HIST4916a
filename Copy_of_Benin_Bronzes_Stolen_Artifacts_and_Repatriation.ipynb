{
  "nbformat": 4,
  "nbformat_minor": 5,
  "metadata": {
    "kernelspec": {
      "display_name": "Python 3",
      "language": "python",
      "name": "python3"
    },
    "language_info": {
      "codemirror_mode": {
        "name": "ipython",
        "version": 3
      },
      "file_extension": ".py",
      "mimetype": "text/x-python",
      "name": "python",
      "nbconvert_exporter": "python",
      "pygments_lexer": "ipython3",
      "version": "3.7.10"
    },
    "colab": {
      "name": "Copy of Benin_Bronzes_Stolen_Artifacts_and_Repatriation.ipynb",
      "provenance": [],
      "include_colab_link": true
    }
  },
  "cells": [
    {
      "cell_type": "markdown",
      "metadata": {
        "id": "view-in-github",
        "colab_type": "text"
      },
      "source": [
        "<a href=\"https://colab.research.google.com/github/kuriousk516/HIST4916a/blob/main/Copy_of_Benin_Bronzes_Stolen_Artifacts_and_Repatriation.ipynb\" target=\"_parent\"><img src=\"https://colab.research.google.com/assets/colab-badge.svg\" alt=\"Open In Colab\"/></a>"
      ]
    },
    {
      "cell_type": "markdown",
      "metadata": {
        "id": "closed-small"
      },
      "source": [
        "# Benin Bronzes: Stolen Artifacts and Repatriation"
      ],
      "id": "closed-small"
    },
    {
      "cell_type": "markdown",
      "metadata": {
        "id": "bound-revelation"
      },
      "source": [
        "## Introduction\n",
        "\"~ This section will introduce your goals for the notebook, and briefly situate what your notebook does and why it matters.\""
      ],
      "id": "bound-revelation"
    },
    {
      "cell_type": "markdown",
      "metadata": {
        "id": "designing-proceeding"
      },
      "source": [
        "## Data\n",
        "\"This section will discuss the source of your data, is strengths / limitations, and will include the necessary code to load the data up. The discussion here may be brief; you will want to address the same questions in more depth in your Notebook Reflection.\n",
        "It may well be that you are loading data from some other website; it could be that you’ve already downloaded, subsetted, and cleaned data from somewhere; in this case, you’d be loading the data from your own github repository or Datasette on Heroku.\""
      ],
      "id": "designing-proceeding"
    }
  ]
}