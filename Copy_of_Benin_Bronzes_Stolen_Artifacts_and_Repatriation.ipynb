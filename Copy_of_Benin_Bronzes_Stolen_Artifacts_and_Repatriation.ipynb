{
  "nbformat": 4,
  "nbformat_minor": 5,
  "metadata": {
    "kernelspec": {
      "display_name": "Python 3",
      "language": "python",
      "name": "python3"
    },
    "language_info": {
      "codemirror_mode": {
        "name": "ipython",
        "version": 3
      },
      "file_extension": ".py",
      "mimetype": "text/x-python",
      "name": "python",
      "nbconvert_exporter": "python",
      "pygments_lexer": "ipython3",
      "version": "3.7.10"
    },
    "colab": {
      "name": "Copy of Benin_Bronzes_Stolen_Artifacts_and_Repatriation.ipynb",
      "provenance": [],
      "toc_visible": true,
      "include_colab_link": true
    }
  },
  "cells": [
    {
      "cell_type": "markdown",
      "metadata": {
        "id": "view-in-github",
        "colab_type": "text"
      },
      "source": [
        "<a href=\"https://colab.research.google.com/github/kuriousk516/HIST4916a/blob/main/Copy_of_Benin_Bronzes_Stolen_Artifacts_and_Repatriation.ipynb\" target=\"_parent\"><img src=\"https://colab.research.google.com/assets/colab-badge.svg\" alt=\"Open In Colab\"/></a>"
      ]
    },
    {
      "cell_type": "markdown",
      "metadata": {
        "id": "closed-small"
      },
      "source": [
        "# Benin Bronzes: Stolen Artifacts and Repatriation"
      ],
      "id": "closed-small"
    },
    {
      "cell_type": "markdown",
      "metadata": {
        "id": "bound-revelation"
      },
      "source": [
        "## Introduction\n",
        "\n",
        ">\"*Walk into any European museum today and you will see the curated spoils of Empire. They sit behind plate glass: dignified, tastefully lit. Accompanying pieces of card offer a name, date and place of origin. They do not mention that the objects are all stolen*.\"\n",
        ">\n",
        "> 'Radicals in Conversation': The Brutish Museums\n",
        "\n",
        "Public history and digital humanities offers a locus point of contending with difficult pasts. Museums, often considered bastions of knowledge, learning, and public good have fallen under an increasingly critical gaze -- and rightfully so. Public museums have been tools of colonialism, racism, and superiority centred around the supremacy of the west and its history. \n",
        "\n",
        "Digital repositories of museum archives and websites can be used to subvert the exclusionary practices employed by museums and provide tools for marginalized peoples --. The purpose of this notebook is to act as a digital tool for real life change, and it is focused on Dan Hick's [Tweet](https://twitter.com/profdanhicks/status/1375421209265983488) and book, *The Brutish Museum*."
      ],
      "id": "bound-revelation"
    },
    {
      "cell_type": "code",
      "metadata": {
        "id": "aLU0CfZmd_kS",
        "outputId": "3710575b-0b41-43ad-91ae-90eb224db6ba",
        "colab": {
          "base_uri": "https://localhost:8080/",
          "height": 505
        }
      },
      "source": [
        "%%html\n",
        "<iframe src=\"https://drive.google.com/file/d/1txSH3UkjJgLTeQW47MGLfrht7AHCEkGC/preview\" width=\"640\" height=\"480\"></iframe>"
      ],
      "id": "aLU0CfZmd_kS",
      "execution_count": 7,
      "outputs": [
        {
          "output_type": "display_data",
          "data": {
            "text/html": [
              "<iframe src=\"https://drive.google.com/file/d/1txSH3UkjJgLTeQW47MGLfrht7AHCEkGC/preview\" width=\"640\" height=\"480\"></iframe>"
            ],
            "text/plain": [
              "<IPython.core.display.HTML object>"
            ]
          },
          "metadata": {
            "tags": []
          }
        }
      ]
    },
    {
      "cell_type": "markdown",
      "metadata": {
        "id": "97jGYu10gKie"
      },
      "source": [
        "I live in Canada and work in Ottawa, and I poured over the long list of names and was confronted with the sheer number of stolen artifacts that remain missing from their rightful peoples. The appendix' list is a small fraction of the stolen artifacts found in hundreds of museums all over the world but it is a powerful point of focus. I want to create something, however small, that can give others the tools to scrape data from other museum websites and interrogate why *they* are the institutions holding these artifacts, what effect that has, what's being done with them, and what \"ownership\" is. Can anyone own art? Who has the power to decide? How do we give that power back to those who were stolen from? \n",
        "\n",
        "I'll be examining the Benin bronze collections held in the Museum of History, Royal Ottawa Museum, Montreal Museum of Fine Arts, and the Royal Museum of British Columbia. \n",
        "\n",
        "To learn more about the Benin bronzes and their history, a good place to start is with the '[Radicals in Conversation](https://www.plutobooks.com/blog/podcast-brutish-museums-benin-bronzes-decolonisation/)' podcast. "
      ],
      "id": "97jGYu10gKie"
    },
    {
      "cell_type": "markdown",
      "metadata": {
        "id": "designing-proceeding"
      },
      "source": [
        "## Data\n",
        "\"This section will discuss the source of your data, is strengths / limitations, and will include the necessary code to load the data up. The discussion here may be brief; you will want to address the same questions in more depth in your Notebook Reflection.\n",
        "It may well be that you are loading data from some other website; it could be that you’ve already downloaded, subsetted, and cleaned data from somewhere; in this case, you’d be loading the data from your own github repository or Datasette on Heroku.\""
      ],
      "id": "designing-proceeding"
    },
    {
      "cell_type": "markdown",
      "metadata": {
        "id": "VKrCCLIxIHk-"
      },
      "source": [
        "# References\n",
        "\n",
        "[^1]: Abt, Jeffrey. “The Origins of the Public Museum.” In A Companion to Museum Studies, 115–134. Malden, MA, USA: Blackwell Publishing Ltd, 2006.\n",
        "\n",
        "Bennett, Tony. 1990. “The Political Rationality of the Museum,” Continuum: The Australian Journal of Media and Culture 2, no. 1 (1990).\n",
        "\n",
        "Hudson, David J. 2016. “On Dark Continents and Digital Divides: Information Inequality and the Reproduction of Racial Otherness in Library and Information Studies” https://atrium.lib.uoguelph.ca/xmlui/handle/10214/9862.\n",
        "\n",
        "Kreps, Christina. 2008. ‘Non-western Models of Museums and Curation in Cross-cultural Perspective’in Sharon Macdonald, ed. ‘Companion to Museum Studies’. \n",
        "\n",
        "Bivens, Joy, and Ben Garcia, Porchia Moore, nikhil trivedi, Aletheia Wittman. 2019. ‘Collections: How We Hold the Stuff We Hold in Trust’ in MASSAction, Museums As Site for Social Action, toolkit, https://static1.squarespace.com/static/58fa685dff7c50f78be5f2b2/t/59dcdd27e5dd5b5a1b51d9d8/1507646780650/TOOLKIT_10_2017.pdf\n",
        "\n",
        "MacDonald, Sharon. 2008. “Collecting Practices” in Sharon Macdonald, ed. ‘Companion to Museum Studies’.\n",
        "\n",
        "Sentance, Nathan mudyi. 2018. “Why Do We Collect,” Archival Decolonist blog, August 18, 2018, https://archivaldecolonist.com/2018/08/18/why-do-we-collect/\n",
        "\n"
      ],
      "id": "VKrCCLIxIHk-"
    },
    {
      "cell_type": "markdown",
      "metadata": {
        "id": "2qemYS_3Ld2i"
      },
      "source": [
        "# Further Reading\n",
        "\n",
        "https://www.danhicks.uk/brutishmuseums\n",
        "\n",
        "https://www.plutobooks.com/blog/podcast-brutish-museums-benin-bronzes-decolonisation/"
      ],
      "id": "2qemYS_3Ld2i"
    }
  ]
}