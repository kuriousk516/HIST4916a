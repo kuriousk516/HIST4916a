{
 "cells": [
  {
   "cell_type": "markdown",
   "id": "analyzed-corps",
   "metadata": {},
   "source": [
    "# Notebook Reflection: or, figuring out what the heck I'm doing\n",
    "\n",
    "\n",
    "\n",
    "> I'm following the template and trying to build up some of my skills, but I definitely struggle with wanting something to be 'perfect' immediately before I even really get started. I want to have the ideal image in mind of what the output should be. But, I know that's not actually feasible or realistic. So this is me figuring things out and hopefully making something interesting along the way. Let's see what I end up creating! :smile: \n",
    "> \n",
    "> Without further ado, here's the saga of my process of creating the final notebook. \n",
    "\n",
    "\n",
    "## WTH is this notebook gonna be about?\n",
    "I'm sticking with the Benin bronzes that are still in Canadian museums and centre it around the discussion prompted by Dan Hicks and Dr. Kisha Supernant on [Twitter](https://twitter.com/ArchaeoMapper/status/1375447277959929869). \n",
    "\n",
    "## What should all of this mean?\n",
    "\n",
    "\n",
    "## Where do I start?\n",
    "This amount of work should really not be a whole lot. Like, I've done *way* more in a semester and managed alright and got good grades. But this is also a pandemic and my health continues to be a hot mess. \n",
    "\n",
    "So, how should I tackle what *feels* like an insurmountable task? \n",
    "\n",
    "### Backtracking\n",
    "\n",
    "- [ ] Go over the previous weeks' assigned work. \n",
    "- [ ] Examine data examples from Ottawa. \n",
    "- [ ] Decide on my definition of **'meaningful'**.\n",
    "- [ ] Wrangling some data?\n",
    "- [ ] Doing some ~visualisation. \n",
    "\n",
    "Some good news: \n",
    "\n",
    "![](https://i.imgur.com/mDu8QD4.jpg)\n",
    "\n",
    "And an alternative:\n",
    "\n",
    "![](https://i.imgur.com/A9pHCii.jpg)\n",
    "\n",
    "I'm really interested in creating something that can be uesd by others, even if it isn't *directly* related to GLAM in Ottawa. (Well, the tweet says that the Museum of History has some, so I guess it *is* related?)\n",
    "\n",
    "Creating a database around where someone can easily see where Benin bronzes are being held in Canada, and what that means for our colonial history and repatriation, seems like a worthwhile project to me. \n",
    "\n",
    "Then comes the fun part of learning how to scrape info from websites and the internet. Oh, fun!\n",
    "\n",
    "### Working through tutorials\n",
    "\n",
    "Since I found it a bit tricky to have 12+ web pages open at once, going back and forth to figure out how to work the different tutorials and keep track of everything, I thought YouTube might be an easier place to start and have a sort of base-knowledge before going into the tutorials on the course website.\n",
    "\n",
    "#### Wget\n",
    "\n",
    "This is the link to week 9 on the course website, where it details how to scrape info on the net using wget. So I guess now it's a matter of figuring out which one is easiest to deal with. \n",
    "\n",
    "This is all taken from the [DH4916a website](https://craftingdh.netlify.app/week/2/wget/) and prompted from Dr. Graham's discord advice. (Screenshots below.)\n",
    "\n",
    "![](https://i.imgur.com/pcpDpL7.jpg)\n",
    "![](https://i.imgur.com/TnUCNfv.jpg)"
   ]
  },
  {
   "cell_type": "code",
   "execution_count": null,
   "id": "pretty-ratio",
   "metadata": {},
   "outputs": [],
   "source": []
  },
  {
   "cell_type": "markdown",
   "id": "transsexual-consideration",
   "metadata": {},
   "source": [
    "### Getting help and taking advice\n",
    "\n",
    "![Chantal's insights, DH discord channel](https://i.imgur.com/kDsZmAh.jpg)\n",
    "\n",
    "\n",
    "![](https://i.imgur.com/GZDcy6I.jpg)\n",
    "![](https://i.imgur.com/TRkHrLj.jpg)\n",
    "\n",
    "\n",
    "\n",
    "This has been so much fun!\n",
    "\n",
    "![](https://i.imgur.com/UKhrE3Y.jpg)\n",
    "![](https://i.imgur.com/3l5P3TO.jpg)\n",
    "\n",
    "JK. I feel like I'm stuck in a tech nightmare. \n",
    "\n",
    "I'm not usually bad at dealing with technology; I like to think that I can deal with most things intuitively, or at least look up what I don't know, but it feels like I walked into an exam where I studied for one subject, thought I had a grasp on it, and then it turns out I studied for the wrong thing and I failed. I know that's not the point of this class - it's not to punish us or make us feel like we're lacking and not doing enough, but I still feel an overwhelming sense of panic about the whole thing; it's so difficult to think rationally. \n",
    "\n",
    "\n",
    "\n",
    "\n",
    "\n",
    "\n",
    "\n"
   ]
  },
  {
   "cell_type": "markdown",
   "id": "surprising-voltage",
   "metadata": {},
   "source": [
    "### Jupyter and Binder "
   ]
  },
  {
   "cell_type": "code",
   "execution_count": null,
   "id": "common-corruption",
   "metadata": {},
   "outputs": [],
   "source": []
  },
  {
   "cell_type": "markdown",
   "id": "breathing-calgary",
   "metadata": {},
   "source": [
    "### Making mistakes. Whooooo.\n",
    "\n",
    "\n",
    "![](https://i.imgur.com/62lYwRn.jpg)\n",
    "\n",
    "\n",
    "\n",
    "![](https://i.imgur.com/pZdekaa.jpg)\n"
   ]
  },
  {
   "cell_type": "markdown",
   "id": "governmental-antique",
   "metadata": {},
   "source": [
    "## References"
   ]
  }
 ],
 "metadata": {
  "kernelspec": {
   "display_name": "Python 3",
   "language": "python",
   "name": "python3"
  },
  "language_info": {
   "codemirror_mode": {
    "name": "ipython",
    "version": 3
   },
   "file_extension": ".py",
   "mimetype": "text/x-python",
   "name": "python",
   "nbconvert_exporter": "python",
   "pygments_lexer": "ipython3",
   "version": "3.7.10"
  }
 },
 "nbformat": 4,
 "nbformat_minor": 5
}
